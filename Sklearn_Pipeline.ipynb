{
  "cells": [
    {
      "cell_type": "markdown",
      "metadata": {
        "id": "view-in-github",
        "colab_type": "text"
      },
      "source": [
        "<a href=\"https://colab.research.google.com/github/RamSakamuri/Pipelines-Using-Sklearn/blob/master/Sklearn_Pipeline.ipynb\" target=\"_parent\"><img src=\"https://colab.research.google.com/assets/colab-badge.svg\" alt=\"Open In Colab\"/></a>"
      ]
    },
    {
      "cell_type": "markdown",
      "metadata": {
        "id": "kSXzPkbZ-Ycj"
      },
      "source": [
        "*italicized text*## How to create Pipelines In SkLearn"
      ]
    },
    {
      "cell_type": "code",
      "execution_count": 34,
      "metadata": {
        "id": "F-lZqXiu-Ycm"
      },
      "outputs": [],
      "source": [
        "from sklearn.model_selection import train_test_split\n",
        "from sklearn.preprocessing import StandardScaler\n",
        "from sklearn.decomposition import PCA\n",
        "from sklearn.pipeline import Pipeline\n",
        "from sklearn.linear_model import LogisticRegression\n",
        "from sklearn.tree import DecisionTreeClassifier\n",
        "from sklearn.ensemble import RandomForestClassifier\n",
        "from sklearn.datasets import make_classification"
      ]
    },
    {
      "cell_type": "code",
      "execution_count": 35,
      "metadata": {
        "id": "YFBAacKY-Ycn"
      },
      "outputs": [],
      "source": [
        "X, y = make_classification(random_state=0)"
      ]
    },
    {
      "cell_type": "code",
      "execution_count": null,
      "metadata": {
        "id": "J7oG5X9Y-Yco"
      },
      "outputs": [],
      "source": [
        ""
      ]
    },
    {
      "cell_type": "code",
      "execution_count": 36,
      "metadata": {
        "id": "rTtG0tDg-Yco"
      },
      "outputs": [],
      "source": [
        "X_train,X_test,y_train,y_test=train_test_split(X,y,test_size=0.3,random_state=0)"
      ]
    },
    {
      "cell_type": "code",
      "execution_count": null,
      "metadata": {
        "id": "JsJxI7-D-Ycp"
      },
      "outputs": [],
      "source": [
        "## Pipelines Creation\n",
        "## 1. Data Preprocessing by using Standard Scaler\n",
        "## 2. Reduce Dimension using PCA\n",
        "## 3. Apply  Classifier"
      ]
    },
    {
      "cell_type": "code",
      "execution_count": 37,
      "metadata": {
        "id": "twzDlvKj-Ycp"
      },
      "outputs": [],
      "source": [
        "pipeline_lr=Pipeline([('scalar1',StandardScaler()),\n",
        "                     ('pca1',PCA(n_components=2)),\n",
        "                     ('lr_classifier',LogisticRegression(random_state=0))])"
      ]
    },
    {
      "cell_type": "code",
      "execution_count": 38,
      "metadata": {
        "id": "J2AQApiB-Ycq"
      },
      "outputs": [],
      "source": [
        "pipeline_dt=Pipeline([('scalar2',StandardScaler()),\n",
        "                     ('pca2',PCA(n_components=2)),\n",
        "                     ('dt_classifier',DecisionTreeClassifier())])"
      ]
    },
    {
      "cell_type": "code",
      "execution_count": 39,
      "metadata": {
        "id": "Sl8MksPH-Ycq"
      },
      "outputs": [],
      "source": [
        "pipeline_randomforest=Pipeline([('scalar3',StandardScaler()),\n",
        "                     ('pca3',PCA(n_components=2)),\n",
        "                     ('rf_classifier',RandomForestClassifier())])\n"
      ]
    },
    {
      "cell_type": "code",
      "execution_count": 40,
      "metadata": {
        "id": "2o0rcFep-Ycr"
      },
      "outputs": [],
      "source": [
        "# list of pipelines\n",
        "pipelines = [pipeline_lr, pipeline_dt, pipeline_randomforest]"
      ]
    },
    {
      "cell_type": "code",
      "execution_count": 41,
      "metadata": {
        "id": "havpP-bq-Ycr"
      },
      "outputs": [],
      "source": [
        "best_accuracy=0.0\n",
        "best_classifier=0\n",
        "best_pipeline=\"\""
      ]
    },
    {
      "cell_type": "code",
      "execution_count": 42,
      "metadata": {
        "id": "x8kdP4gc-Ycs"
      },
      "outputs": [],
      "source": [
        "# Dictionary of pipelines and classifier types for ease of reference\n",
        "pipe_dict = {0: 'Logistic Regression', 1: 'Decision Tree', 2: 'RandomForest'}\n",
        "\n",
        "# Fit the pipelines\n",
        "for pipe in pipelines:\n",
        "\tpipe.fit(X_train, y_train)"
      ]
    },
    {
      "cell_type": "code",
      "source": [
        "from sklearn import set_config\n",
        "set_config(display=\"text\")\n",
        "pipe"
      ],
      "metadata": {
        "colab": {
          "base_uri": "https://localhost:8080/"
        },
        "id": "31kfbwdTBRTg",
        "outputId": "eee384eb-61bb-4c1f-d168-aedd2d663022"
      },
      "execution_count": 43,
      "outputs": [
        {
          "output_type": "execute_result",
          "data": {
            "text/plain": [
              "Pipeline(steps=[('scalar3', StandardScaler()), ('pca3', PCA(n_components=2)),\n",
              "                ('rf_classifier', RandomForestClassifier())])"
            ]
          },
          "metadata": {},
          "execution_count": 43
        }
      ]
    },
    {
      "cell_type": "code",
      "source": [
        "set_config(display=\"diagram\")\n",
        "pipe  # click on the diagram below to see the details of each step"
      ],
      "metadata": {
        "colab": {
          "base_uri": "https://localhost:8080/",
          "height": 161
        },
        "id": "QFPRbwg6Bb_a",
        "outputId": "3fa32c2d-be93-44aa-bf04-146ba6113a29"
      },
      "execution_count": 44,
      "outputs": [
        {
          "output_type": "execute_result",
          "data": {
            "text/plain": [
              "Pipeline(steps=[('scalar3', StandardScaler()), ('pca3', PCA(n_components=2)),\n",
              "                ('rf_classifier', RandomForestClassifier())])"
            ],
            "text/html": [
              "<style>#sk-6f000cef-d24f-40d2-9590-5e84901a860e {color: black;background-color: white;}#sk-6f000cef-d24f-40d2-9590-5e84901a860e pre{padding: 0;}#sk-6f000cef-d24f-40d2-9590-5e84901a860e div.sk-toggleable {background-color: white;}#sk-6f000cef-d24f-40d2-9590-5e84901a860e label.sk-toggleable__label {cursor: pointer;display: block;width: 100%;margin-bottom: 0;padding: 0.3em;box-sizing: border-box;text-align: center;}#sk-6f000cef-d24f-40d2-9590-5e84901a860e label.sk-toggleable__label-arrow:before {content: \"▸\";float: left;margin-right: 0.25em;color: #696969;}#sk-6f000cef-d24f-40d2-9590-5e84901a860e label.sk-toggleable__label-arrow:hover:before {color: black;}#sk-6f000cef-d24f-40d2-9590-5e84901a860e div.sk-estimator:hover label.sk-toggleable__label-arrow:before {color: black;}#sk-6f000cef-d24f-40d2-9590-5e84901a860e div.sk-toggleable__content {max-height: 0;max-width: 0;overflow: hidden;text-align: left;background-color: #f0f8ff;}#sk-6f000cef-d24f-40d2-9590-5e84901a860e div.sk-toggleable__content pre {margin: 0.2em;color: black;border-radius: 0.25em;background-color: #f0f8ff;}#sk-6f000cef-d24f-40d2-9590-5e84901a860e input.sk-toggleable__control:checked~div.sk-toggleable__content {max-height: 200px;max-width: 100%;overflow: auto;}#sk-6f000cef-d24f-40d2-9590-5e84901a860e input.sk-toggleable__control:checked~label.sk-toggleable__label-arrow:before {content: \"▾\";}#sk-6f000cef-d24f-40d2-9590-5e84901a860e div.sk-estimator input.sk-toggleable__control:checked~label.sk-toggleable__label {background-color: #d4ebff;}#sk-6f000cef-d24f-40d2-9590-5e84901a860e div.sk-label input.sk-toggleable__control:checked~label.sk-toggleable__label {background-color: #d4ebff;}#sk-6f000cef-d24f-40d2-9590-5e84901a860e input.sk-hidden--visually {border: 0;clip: rect(1px 1px 1px 1px);clip: rect(1px, 1px, 1px, 1px);height: 1px;margin: -1px;overflow: hidden;padding: 0;position: absolute;width: 1px;}#sk-6f000cef-d24f-40d2-9590-5e84901a860e div.sk-estimator {font-family: monospace;background-color: #f0f8ff;border: 1px dotted black;border-radius: 0.25em;box-sizing: border-box;margin-bottom: 0.5em;}#sk-6f000cef-d24f-40d2-9590-5e84901a860e div.sk-estimator:hover {background-color: #d4ebff;}#sk-6f000cef-d24f-40d2-9590-5e84901a860e div.sk-parallel-item::after {content: \"\";width: 100%;border-bottom: 1px solid gray;flex-grow: 1;}#sk-6f000cef-d24f-40d2-9590-5e84901a860e div.sk-label:hover label.sk-toggleable__label {background-color: #d4ebff;}#sk-6f000cef-d24f-40d2-9590-5e84901a860e div.sk-serial::before {content: \"\";position: absolute;border-left: 1px solid gray;box-sizing: border-box;top: 2em;bottom: 0;left: 50%;}#sk-6f000cef-d24f-40d2-9590-5e84901a860e div.sk-serial {display: flex;flex-direction: column;align-items: center;background-color: white;padding-right: 0.2em;padding-left: 0.2em;}#sk-6f000cef-d24f-40d2-9590-5e84901a860e div.sk-item {z-index: 1;}#sk-6f000cef-d24f-40d2-9590-5e84901a860e div.sk-parallel {display: flex;align-items: stretch;justify-content: center;background-color: white;}#sk-6f000cef-d24f-40d2-9590-5e84901a860e div.sk-parallel::before {content: \"\";position: absolute;border-left: 1px solid gray;box-sizing: border-box;top: 2em;bottom: 0;left: 50%;}#sk-6f000cef-d24f-40d2-9590-5e84901a860e div.sk-parallel-item {display: flex;flex-direction: column;position: relative;background-color: white;}#sk-6f000cef-d24f-40d2-9590-5e84901a860e div.sk-parallel-item:first-child::after {align-self: flex-end;width: 50%;}#sk-6f000cef-d24f-40d2-9590-5e84901a860e div.sk-parallel-item:last-child::after {align-self: flex-start;width: 50%;}#sk-6f000cef-d24f-40d2-9590-5e84901a860e div.sk-parallel-item:only-child::after {width: 0;}#sk-6f000cef-d24f-40d2-9590-5e84901a860e div.sk-dashed-wrapped {border: 1px dashed gray;margin: 0 0.4em 0.5em 0.4em;box-sizing: border-box;padding-bottom: 0.4em;background-color: white;position: relative;}#sk-6f000cef-d24f-40d2-9590-5e84901a860e div.sk-label label {font-family: monospace;font-weight: bold;background-color: white;display: inline-block;line-height: 1.2em;}#sk-6f000cef-d24f-40d2-9590-5e84901a860e div.sk-label-container {position: relative;z-index: 2;text-align: center;}#sk-6f000cef-d24f-40d2-9590-5e84901a860e div.sk-container {/* jupyter's `normalize.less` sets `[hidden] { display: none; }` but bootstrap.min.css set `[hidden] { display: none !important; }` so we also need the `!important` here to be able to override the default hidden behavior on the sphinx rendered scikit-learn.org. See: https://github.com/scikit-learn/scikit-learn/issues/21755 */display: inline-block !important;position: relative;}#sk-6f000cef-d24f-40d2-9590-5e84901a860e div.sk-text-repr-fallback {display: none;}</style><div id=\"sk-6f000cef-d24f-40d2-9590-5e84901a860e\" class=\"sk-top-container\"><div class=\"sk-text-repr-fallback\"><pre>Pipeline(steps=[(&#x27;scalar3&#x27;, StandardScaler()), (&#x27;pca3&#x27;, PCA(n_components=2)),\n",
              "                (&#x27;rf_classifier&#x27;, RandomForestClassifier())])</pre><b>Please rerun this cell to show the HTML repr or trust the notebook.</b></div><div class=\"sk-container\" hidden><div class=\"sk-item sk-dashed-wrapped\"><div class=\"sk-label-container\"><div class=\"sk-label sk-toggleable\"><input class=\"sk-toggleable__control sk-hidden--visually\" id=\"eddce494-3583-456c-af7f-a4e216c591f2\" type=\"checkbox\" ><label for=\"eddce494-3583-456c-af7f-a4e216c591f2\" class=\"sk-toggleable__label sk-toggleable__label-arrow\">Pipeline</label><div class=\"sk-toggleable__content\"><pre>Pipeline(steps=[(&#x27;scalar3&#x27;, StandardScaler()), (&#x27;pca3&#x27;, PCA(n_components=2)),\n",
              "                (&#x27;rf_classifier&#x27;, RandomForestClassifier())])</pre></div></div></div><div class=\"sk-serial\"><div class=\"sk-item\"><div class=\"sk-estimator sk-toggleable\"><input class=\"sk-toggleable__control sk-hidden--visually\" id=\"d5a82dcb-9572-4427-bcdf-345ae0da9544\" type=\"checkbox\" ><label for=\"d5a82dcb-9572-4427-bcdf-345ae0da9544\" class=\"sk-toggleable__label sk-toggleable__label-arrow\">StandardScaler</label><div class=\"sk-toggleable__content\"><pre>StandardScaler()</pre></div></div></div><div class=\"sk-item\"><div class=\"sk-estimator sk-toggleable\"><input class=\"sk-toggleable__control sk-hidden--visually\" id=\"47704969-b03d-465d-af37-c8bd7b97e9dc\" type=\"checkbox\" ><label for=\"47704969-b03d-465d-af37-c8bd7b97e9dc\" class=\"sk-toggleable__label sk-toggleable__label-arrow\">PCA</label><div class=\"sk-toggleable__content\"><pre>PCA(n_components=2)</pre></div></div></div><div class=\"sk-item\"><div class=\"sk-estimator sk-toggleable\"><input class=\"sk-toggleable__control sk-hidden--visually\" id=\"dcf1540e-687b-42b9-bffa-14f6ef34b8e0\" type=\"checkbox\" ><label for=\"dcf1540e-687b-42b9-bffa-14f6ef34b8e0\" class=\"sk-toggleable__label sk-toggleable__label-arrow\">RandomForestClassifier</label><div class=\"sk-toggleable__content\"><pre>RandomForestClassifier()</pre></div></div></div></div></div></div></div>"
            ]
          },
          "metadata": {},
          "execution_count": 44
        }
      ]
    },
    {
      "cell_type": "code",
      "execution_count": 45,
      "metadata": {
        "colab": {
          "base_uri": "https://localhost:8080/"
        },
        "id": "Lp-epbav-Ycs",
        "outputId": "d6044ad5-2353-4256-953e-678ddac7c1f2"
      },
      "outputs": [
        {
          "output_type": "stream",
          "name": "stdout",
          "text": [
            "Logistic Regression Test Accuracy: 0.8333333333333334\n",
            "Decision Tree Test Accuracy: 0.8333333333333334\n",
            "RandomForest Test Accuracy: 0.8666666666666667\n"
          ]
        }
      ],
      "source": [
        "for i,model in enumerate(pipelines):\n",
        "    print(\"{} Test Accuracy: {}\".format(pipe_dict[i],model.score(X_test,y_test)))"
      ]
    },
    {
      "cell_type": "code",
      "execution_count": 46,
      "metadata": {
        "colab": {
          "base_uri": "https://localhost:8080/"
        },
        "id": "PisT7u8f-Ycs",
        "outputId": "bc0b3d28-197d-4b24-b2c9-e936675b2823"
      },
      "outputs": [
        {
          "output_type": "stream",
          "name": "stdout",
          "text": [
            "Classifier with best accuracy:RandomForest\n"
          ]
        }
      ],
      "source": [
        "for i,model in enumerate(pipelines):\n",
        "    if model.score(X_test,y_test)>best_accuracy:\n",
        "        best_accuracy=model.score(X_test,y_test)\n",
        "        best_pipeline=model\n",
        "        best_classifier=i\n",
        "print('Classifier with best accuracy:{}'.format(pipe_dict[best_classifier]))"
      ]
    },
    {
      "cell_type": "markdown",
      "metadata": {
        "id": "WpdHNcqw-Yct"
      },
      "source": [
        "## Pipelines Perform Hyperparameter Tuning Using Grid SearchCV"
      ]
    },
    {
      "cell_type": "code",
      "execution_count": 47,
      "metadata": {
        "id": "R8IHD52b-Yct"
      },
      "outputs": [],
      "source": [
        "\n",
        "from sklearn.model_selection import GridSearchCV\n",
        "import numpy as np\n"
      ]
    },
    {
      "cell_type": "code",
      "execution_count": 48,
      "metadata": {
        "colab": {
          "base_uri": "https://localhost:8080/"
        },
        "id": "VyN_3xP4-Yct",
        "outputId": "197bf939-f823-41ed-9896-8e098cd577d4"
      },
      "outputs": [
        {
          "output_type": "stream",
          "name": "stderr",
          "text": [
            "/usr/local/lib/python3.7/dist-packages/sklearn/model_selection/_validation.py:372: FitFailedWarning: \n",
            "50 fits failed out of a total of 305.\n",
            "The score on these train-test partitions for these parameters will be set to nan.\n",
            "If these failures are not expected, you can try to debug them by setting error_score='raise'.\n",
            "\n",
            "Below are more details about the failures:\n",
            "--------------------------------------------------------------------------------\n",
            "50 fits failed with the following error:\n",
            "Traceback (most recent call last):\n",
            "  File \"/usr/local/lib/python3.7/dist-packages/sklearn/model_selection/_validation.py\", line 680, in _fit_and_score\n",
            "    estimator.fit(X_train, y_train, **fit_params)\n",
            "  File \"/usr/local/lib/python3.7/dist-packages/sklearn/pipeline.py\", line 394, in fit\n",
            "    self._final_estimator.fit(Xt, y, **fit_params_last_step)\n",
            "  File \"/usr/local/lib/python3.7/dist-packages/sklearn/linear_model/_logistic.py\", line 1461, in fit\n",
            "    solver = _check_solver(self.solver, self.penalty, self.dual)\n",
            "  File \"/usr/local/lib/python3.7/dist-packages/sklearn/linear_model/_logistic.py\", line 449, in _check_solver\n",
            "    % (solver, penalty)\n",
            "ValueError: Solver lbfgs supports only 'l2' or 'none' penalties, got l1 penalty.\n",
            "\n",
            "  warnings.warn(some_fits_failed_message, FitFailedWarning)\n"
          ]
        }
      ],
      "source": [
        "# Create a pipeline\n",
        "import warnings\n",
        "warnings.filterwarnings('ignore', category=UserWarning, append=True)\n",
        "pipe = Pipeline([(\"classifier\", RandomForestClassifier())])\n",
        "# Create dictionary with candidate learning algorithms and their hyperparameters\n",
        "grid_param = [\n",
        "                {\"classifier\": [LogisticRegression()],\n",
        "                 \"classifier__penalty\": ['l2','l1'],\n",
        "                 \"classifier__C\": np.logspace(0, 4, 10)\n",
        "                 },\n",
        "                {\"classifier\": [LogisticRegression()],\n",
        "                 \"classifier__penalty\": ['l2'],\n",
        "                 \"classifier__C\": np.logspace(0, 4, 10),\n",
        "                 \"classifier__solver\":['newton-cg','saga','sag','liblinear'] ##This solvers don't allow L1 penalty\n",
        "                 },\n",
        "                {\"classifier\": [RandomForestClassifier()],\n",
        "                 }]\n",
        "# create a gridsearch of the pipeline, the fit the best model\n",
        "gridsearch = GridSearchCV(pipe, grid_param, verbose=0,n_jobs=-1) # Fit grid search\n",
        "best_model = gridsearch.fit(X_train,y_train)"
      ]
    },
    {
      "cell_type": "code",
      "execution_count": 49,
      "metadata": {
        "colab": {
          "base_uri": "https://localhost:8080/"
        },
        "id": "VjObTFth-Ycu",
        "outputId": "e0424f18-fd7b-4c6a-c479-5445958796b0"
      },
      "outputs": [
        {
          "output_type": "stream",
          "name": "stdout",
          "text": [
            "Pipeline(steps=[('classifier', RandomForestClassifier())])\n",
            "The mean accuracy of the model is: 0.9\n"
          ]
        }
      ],
      "source": [
        "print(best_model.best_estimator_)\n",
        "print(\"The mean accuracy of the model is:\",best_model.score(X_test,y_test))"
      ]
    },
    {
      "cell_type": "code",
      "source": [
        "set_config(display=\"diagram\")\n",
        "gridsearch  "
      ],
      "metadata": {
        "colab": {
          "base_uri": "https://localhost:8080/",
          "height": 92
        },
        "id": "78BodIBoDtU4",
        "outputId": "a50b372b-38bb-42f1-ebaf-ea097eb13ac7"
      },
      "execution_count": 50,
      "outputs": [
        {
          "output_type": "execute_result",
          "data": {
            "text/plain": [
              "GridSearchCV(estimator=Pipeline(steps=[('classifier',\n",
              "                                        RandomForestClassifier())]),\n",
              "             n_jobs=-1,\n",
              "             param_grid=[{'classifier': [LogisticRegression()],\n",
              "                          'classifier__C': array([1.00000000e+00, 2.78255940e+00, 7.74263683e+00, 2.15443469e+01,\n",
              "       5.99484250e+01, 1.66810054e+02, 4.64158883e+02, 1.29154967e+03,\n",
              "       3.59381366e+03, 1.00000000e+04]),\n",
              "                          'classifier__penalty': ['l2', 'l1']},\n",
              "                         {'classifier': [LogisticRegression()],\n",
              "                          'classifier__C': array([1.00000000e+00, 2.78255940e+00, 7.74263683e+00, 2.15443469e+01,\n",
              "       5.99484250e+01, 1.66810054e+02, 4.64158883e+02, 1.29154967e+03,\n",
              "       3.59381366e+03, 1.00000000e+04]),\n",
              "                          'classifier__penalty': ['l2'],\n",
              "                          'classifier__solver': ['newton-cg', 'saga', 'sag',\n",
              "                                                 'liblinear']},\n",
              "                         {'classifier': [RandomForestClassifier()]}])"
            ],
            "text/html": [
              "<style>#sk-85717597-8587-4bd8-8965-79e0c3ef02d0 {color: black;background-color: white;}#sk-85717597-8587-4bd8-8965-79e0c3ef02d0 pre{padding: 0;}#sk-85717597-8587-4bd8-8965-79e0c3ef02d0 div.sk-toggleable {background-color: white;}#sk-85717597-8587-4bd8-8965-79e0c3ef02d0 label.sk-toggleable__label {cursor: pointer;display: block;width: 100%;margin-bottom: 0;padding: 0.3em;box-sizing: border-box;text-align: center;}#sk-85717597-8587-4bd8-8965-79e0c3ef02d0 label.sk-toggleable__label-arrow:before {content: \"▸\";float: left;margin-right: 0.25em;color: #696969;}#sk-85717597-8587-4bd8-8965-79e0c3ef02d0 label.sk-toggleable__label-arrow:hover:before {color: black;}#sk-85717597-8587-4bd8-8965-79e0c3ef02d0 div.sk-estimator:hover label.sk-toggleable__label-arrow:before {color: black;}#sk-85717597-8587-4bd8-8965-79e0c3ef02d0 div.sk-toggleable__content {max-height: 0;max-width: 0;overflow: hidden;text-align: left;background-color: #f0f8ff;}#sk-85717597-8587-4bd8-8965-79e0c3ef02d0 div.sk-toggleable__content pre {margin: 0.2em;color: black;border-radius: 0.25em;background-color: #f0f8ff;}#sk-85717597-8587-4bd8-8965-79e0c3ef02d0 input.sk-toggleable__control:checked~div.sk-toggleable__content {max-height: 200px;max-width: 100%;overflow: auto;}#sk-85717597-8587-4bd8-8965-79e0c3ef02d0 input.sk-toggleable__control:checked~label.sk-toggleable__label-arrow:before {content: \"▾\";}#sk-85717597-8587-4bd8-8965-79e0c3ef02d0 div.sk-estimator input.sk-toggleable__control:checked~label.sk-toggleable__label {background-color: #d4ebff;}#sk-85717597-8587-4bd8-8965-79e0c3ef02d0 div.sk-label input.sk-toggleable__control:checked~label.sk-toggleable__label {background-color: #d4ebff;}#sk-85717597-8587-4bd8-8965-79e0c3ef02d0 input.sk-hidden--visually {border: 0;clip: rect(1px 1px 1px 1px);clip: rect(1px, 1px, 1px, 1px);height: 1px;margin: -1px;overflow: hidden;padding: 0;position: absolute;width: 1px;}#sk-85717597-8587-4bd8-8965-79e0c3ef02d0 div.sk-estimator {font-family: monospace;background-color: #f0f8ff;border: 1px dotted black;border-radius: 0.25em;box-sizing: border-box;margin-bottom: 0.5em;}#sk-85717597-8587-4bd8-8965-79e0c3ef02d0 div.sk-estimator:hover {background-color: #d4ebff;}#sk-85717597-8587-4bd8-8965-79e0c3ef02d0 div.sk-parallel-item::after {content: \"\";width: 100%;border-bottom: 1px solid gray;flex-grow: 1;}#sk-85717597-8587-4bd8-8965-79e0c3ef02d0 div.sk-label:hover label.sk-toggleable__label {background-color: #d4ebff;}#sk-85717597-8587-4bd8-8965-79e0c3ef02d0 div.sk-serial::before {content: \"\";position: absolute;border-left: 1px solid gray;box-sizing: border-box;top: 2em;bottom: 0;left: 50%;}#sk-85717597-8587-4bd8-8965-79e0c3ef02d0 div.sk-serial {display: flex;flex-direction: column;align-items: center;background-color: white;padding-right: 0.2em;padding-left: 0.2em;}#sk-85717597-8587-4bd8-8965-79e0c3ef02d0 div.sk-item {z-index: 1;}#sk-85717597-8587-4bd8-8965-79e0c3ef02d0 div.sk-parallel {display: flex;align-items: stretch;justify-content: center;background-color: white;}#sk-85717597-8587-4bd8-8965-79e0c3ef02d0 div.sk-parallel::before {content: \"\";position: absolute;border-left: 1px solid gray;box-sizing: border-box;top: 2em;bottom: 0;left: 50%;}#sk-85717597-8587-4bd8-8965-79e0c3ef02d0 div.sk-parallel-item {display: flex;flex-direction: column;position: relative;background-color: white;}#sk-85717597-8587-4bd8-8965-79e0c3ef02d0 div.sk-parallel-item:first-child::after {align-self: flex-end;width: 50%;}#sk-85717597-8587-4bd8-8965-79e0c3ef02d0 div.sk-parallel-item:last-child::after {align-self: flex-start;width: 50%;}#sk-85717597-8587-4bd8-8965-79e0c3ef02d0 div.sk-parallel-item:only-child::after {width: 0;}#sk-85717597-8587-4bd8-8965-79e0c3ef02d0 div.sk-dashed-wrapped {border: 1px dashed gray;margin: 0 0.4em 0.5em 0.4em;box-sizing: border-box;padding-bottom: 0.4em;background-color: white;position: relative;}#sk-85717597-8587-4bd8-8965-79e0c3ef02d0 div.sk-label label {font-family: monospace;font-weight: bold;background-color: white;display: inline-block;line-height: 1.2em;}#sk-85717597-8587-4bd8-8965-79e0c3ef02d0 div.sk-label-container {position: relative;z-index: 2;text-align: center;}#sk-85717597-8587-4bd8-8965-79e0c3ef02d0 div.sk-container {/* jupyter's `normalize.less` sets `[hidden] { display: none; }` but bootstrap.min.css set `[hidden] { display: none !important; }` so we also need the `!important` here to be able to override the default hidden behavior on the sphinx rendered scikit-learn.org. See: https://github.com/scikit-learn/scikit-learn/issues/21755 */display: inline-block !important;position: relative;}#sk-85717597-8587-4bd8-8965-79e0c3ef02d0 div.sk-text-repr-fallback {display: none;}</style><div id=\"sk-85717597-8587-4bd8-8965-79e0c3ef02d0\" class=\"sk-top-container\"><div class=\"sk-text-repr-fallback\"><pre>GridSearchCV(estimator=Pipeline(steps=[(&#x27;classifier&#x27;,\n",
              "                                        RandomForestClassifier())]),\n",
              "             n_jobs=-1,\n",
              "             param_grid=[{&#x27;classifier&#x27;: [LogisticRegression()],\n",
              "                          &#x27;classifier__C&#x27;: array([1.00000000e+00, 2.78255940e+00, 7.74263683e+00, 2.15443469e+01,\n",
              "       5.99484250e+01, 1.66810054e+02, 4.64158883e+02, 1.29154967e+03,\n",
              "       3.59381366e+03, 1.00000000e+04]),\n",
              "                          &#x27;classifier__penalty&#x27;: [&#x27;l2&#x27;, &#x27;l1&#x27;]},\n",
              "                         {&#x27;classifier&#x27;: [LogisticRegression()],\n",
              "                          &#x27;classifier__C&#x27;: array([1.00000000e+00, 2.78255940e+00, 7.74263683e+00, 2.15443469e+01,\n",
              "       5.99484250e+01, 1.66810054e+02, 4.64158883e+02, 1.29154967e+03,\n",
              "       3.59381366e+03, 1.00000000e+04]),\n",
              "                          &#x27;classifier__penalty&#x27;: [&#x27;l2&#x27;],\n",
              "                          &#x27;classifier__solver&#x27;: [&#x27;newton-cg&#x27;, &#x27;saga&#x27;, &#x27;sag&#x27;,\n",
              "                                                 &#x27;liblinear&#x27;]},\n",
              "                         {&#x27;classifier&#x27;: [RandomForestClassifier()]}])</pre><b>Please rerun this cell to show the HTML repr or trust the notebook.</b></div><div class=\"sk-container\" hidden><div class=\"sk-item sk-dashed-wrapped\"><div class=\"sk-label-container\"><div class=\"sk-label sk-toggleable\"><input class=\"sk-toggleable__control sk-hidden--visually\" id=\"ead9f6e3-7404-49f8-af1c-218d3a7c5a4e\" type=\"checkbox\" ><label for=\"ead9f6e3-7404-49f8-af1c-218d3a7c5a4e\" class=\"sk-toggleable__label sk-toggleable__label-arrow\">GridSearchCV</label><div class=\"sk-toggleable__content\"><pre>GridSearchCV(estimator=Pipeline(steps=[(&#x27;classifier&#x27;,\n",
              "                                        RandomForestClassifier())]),\n",
              "             n_jobs=-1,\n",
              "             param_grid=[{&#x27;classifier&#x27;: [LogisticRegression()],\n",
              "                          &#x27;classifier__C&#x27;: array([1.00000000e+00, 2.78255940e+00, 7.74263683e+00, 2.15443469e+01,\n",
              "       5.99484250e+01, 1.66810054e+02, 4.64158883e+02, 1.29154967e+03,\n",
              "       3.59381366e+03, 1.00000000e+04]),\n",
              "                          &#x27;classifier__penalty&#x27;: [&#x27;l2&#x27;, &#x27;l1&#x27;]},\n",
              "                         {&#x27;classifier&#x27;: [LogisticRegression()],\n",
              "                          &#x27;classifier__C&#x27;: array([1.00000000e+00, 2.78255940e+00, 7.74263683e+00, 2.15443469e+01,\n",
              "       5.99484250e+01, 1.66810054e+02, 4.64158883e+02, 1.29154967e+03,\n",
              "       3.59381366e+03, 1.00000000e+04]),\n",
              "                          &#x27;classifier__penalty&#x27;: [&#x27;l2&#x27;],\n",
              "                          &#x27;classifier__solver&#x27;: [&#x27;newton-cg&#x27;, &#x27;saga&#x27;, &#x27;sag&#x27;,\n",
              "                                                 &#x27;liblinear&#x27;]},\n",
              "                         {&#x27;classifier&#x27;: [RandomForestClassifier()]}])</pre></div></div></div><div class=\"sk-parallel\"><div class=\"sk-parallel-item\"><div class=\"sk-item\"><div class=\"sk-serial\"><div class=\"sk-item\"><div class=\"sk-serial\"><div class=\"sk-item\"><div class=\"sk-estimator sk-toggleable\"><input class=\"sk-toggleable__control sk-hidden--visually\" id=\"3997feb0-0236-4b0d-8d75-b38300ad1a14\" type=\"checkbox\" ><label for=\"3997feb0-0236-4b0d-8d75-b38300ad1a14\" class=\"sk-toggleable__label sk-toggleable__label-arrow\">RandomForestClassifier</label><div class=\"sk-toggleable__content\"><pre>RandomForestClassifier()</pre></div></div></div></div></div></div></div></div></div></div></div></div>"
            ]
          },
          "metadata": {},
          "execution_count": 50
        }
      ]
    },
    {
      "cell_type": "code",
      "source": [
        "best_model"
      ],
      "metadata": {
        "colab": {
          "base_uri": "https://localhost:8080/",
          "height": 115
        },
        "id": "6irPax2QD3Vy",
        "outputId": "af66bcf6-96d0-45f1-aff6-e6a4f5d4ab22"
      },
      "execution_count": 28,
      "outputs": [
        {
          "output_type": "execute_result",
          "data": {
            "text/plain": [
              "GridSearchCV(estimator=Pipeline(steps=[('classifier',\n",
              "                                        RandomForestClassifier())]),\n",
              "             n_jobs=-1,\n",
              "             param_grid=[{'classifier': [LogisticRegression()],\n",
              "                          'classifier__C': array([1.00000000e+00, 2.78255940e+00, 7.74263683e+00, 2.15443469e+01,\n",
              "       5.99484250e+01, 1.66810054e+02, 4.64158883e+02, 1.29154967e+03,\n",
              "       3.59381366e+03, 1.00000000e+04]),\n",
              "                          'classifier__penalty': ['l2', 'l1']},\n",
              "                         {'classifier': [LogisticRegression(solver='saga')],\n",
              "                          'classifier__C': array([1.00000000e+00, 2.78255940e+00, 7.74263683e+00, 2.15443469e+01,\n",
              "       5.99484250e+01, 1.66810054e+02, 4.64158883e+02, 1.29154967e+03,\n",
              "       3.59381366e+03, 1.00000000e+04]),\n",
              "                          'classifier__penalty': ['l2'],\n",
              "                          'classifier__solver': ['newton-cg', 'saga', 'sag',\n",
              "                                                 'liblinear']},\n",
              "                         {'classifier': [RandomForestClassifier()]}])"
            ],
            "text/html": [
              "<style>#sk-ab236685-2741-483e-b60a-89757d3f506d {color: black;background-color: white;}#sk-ab236685-2741-483e-b60a-89757d3f506d pre{padding: 0;}#sk-ab236685-2741-483e-b60a-89757d3f506d div.sk-toggleable {background-color: white;}#sk-ab236685-2741-483e-b60a-89757d3f506d label.sk-toggleable__label {cursor: pointer;display: block;width: 100%;margin-bottom: 0;padding: 0.3em;box-sizing: border-box;text-align: center;}#sk-ab236685-2741-483e-b60a-89757d3f506d label.sk-toggleable__label-arrow:before {content: \"▸\";float: left;margin-right: 0.25em;color: #696969;}#sk-ab236685-2741-483e-b60a-89757d3f506d label.sk-toggleable__label-arrow:hover:before {color: black;}#sk-ab236685-2741-483e-b60a-89757d3f506d div.sk-estimator:hover label.sk-toggleable__label-arrow:before {color: black;}#sk-ab236685-2741-483e-b60a-89757d3f506d div.sk-toggleable__content {max-height: 0;max-width: 0;overflow: hidden;text-align: left;background-color: #f0f8ff;}#sk-ab236685-2741-483e-b60a-89757d3f506d div.sk-toggleable__content pre {margin: 0.2em;color: black;border-radius: 0.25em;background-color: #f0f8ff;}#sk-ab236685-2741-483e-b60a-89757d3f506d input.sk-toggleable__control:checked~div.sk-toggleable__content {max-height: 200px;max-width: 100%;overflow: auto;}#sk-ab236685-2741-483e-b60a-89757d3f506d input.sk-toggleable__control:checked~label.sk-toggleable__label-arrow:before {content: \"▾\";}#sk-ab236685-2741-483e-b60a-89757d3f506d div.sk-estimator input.sk-toggleable__control:checked~label.sk-toggleable__label {background-color: #d4ebff;}#sk-ab236685-2741-483e-b60a-89757d3f506d div.sk-label input.sk-toggleable__control:checked~label.sk-toggleable__label {background-color: #d4ebff;}#sk-ab236685-2741-483e-b60a-89757d3f506d input.sk-hidden--visually {border: 0;clip: rect(1px 1px 1px 1px);clip: rect(1px, 1px, 1px, 1px);height: 1px;margin: -1px;overflow: hidden;padding: 0;position: absolute;width: 1px;}#sk-ab236685-2741-483e-b60a-89757d3f506d div.sk-estimator {font-family: monospace;background-color: #f0f8ff;border: 1px dotted black;border-radius: 0.25em;box-sizing: border-box;margin-bottom: 0.5em;}#sk-ab236685-2741-483e-b60a-89757d3f506d div.sk-estimator:hover {background-color: #d4ebff;}#sk-ab236685-2741-483e-b60a-89757d3f506d div.sk-parallel-item::after {content: \"\";width: 100%;border-bottom: 1px solid gray;flex-grow: 1;}#sk-ab236685-2741-483e-b60a-89757d3f506d div.sk-label:hover label.sk-toggleable__label {background-color: #d4ebff;}#sk-ab236685-2741-483e-b60a-89757d3f506d div.sk-serial::before {content: \"\";position: absolute;border-left: 1px solid gray;box-sizing: border-box;top: 2em;bottom: 0;left: 50%;}#sk-ab236685-2741-483e-b60a-89757d3f506d div.sk-serial {display: flex;flex-direction: column;align-items: center;background-color: white;padding-right: 0.2em;padding-left: 0.2em;}#sk-ab236685-2741-483e-b60a-89757d3f506d div.sk-item {z-index: 1;}#sk-ab236685-2741-483e-b60a-89757d3f506d div.sk-parallel {display: flex;align-items: stretch;justify-content: center;background-color: white;}#sk-ab236685-2741-483e-b60a-89757d3f506d div.sk-parallel::before {content: \"\";position: absolute;border-left: 1px solid gray;box-sizing: border-box;top: 2em;bottom: 0;left: 50%;}#sk-ab236685-2741-483e-b60a-89757d3f506d div.sk-parallel-item {display: flex;flex-direction: column;position: relative;background-color: white;}#sk-ab236685-2741-483e-b60a-89757d3f506d div.sk-parallel-item:first-child::after {align-self: flex-end;width: 50%;}#sk-ab236685-2741-483e-b60a-89757d3f506d div.sk-parallel-item:last-child::after {align-self: flex-start;width: 50%;}#sk-ab236685-2741-483e-b60a-89757d3f506d div.sk-parallel-item:only-child::after {width: 0;}#sk-ab236685-2741-483e-b60a-89757d3f506d div.sk-dashed-wrapped {border: 1px dashed gray;margin: 0 0.4em 0.5em 0.4em;box-sizing: border-box;padding-bottom: 0.4em;background-color: white;position: relative;}#sk-ab236685-2741-483e-b60a-89757d3f506d div.sk-label label {font-family: monospace;font-weight: bold;background-color: white;display: inline-block;line-height: 1.2em;}#sk-ab236685-2741-483e-b60a-89757d3f506d div.sk-label-container {position: relative;z-index: 2;text-align: center;}#sk-ab236685-2741-483e-b60a-89757d3f506d div.sk-container {/* jupyter's `normalize.less` sets `[hidden] { display: none; }` but bootstrap.min.css set `[hidden] { display: none !important; }` so we also need the `!important` here to be able to override the default hidden behavior on the sphinx rendered scikit-learn.org. See: https://github.com/scikit-learn/scikit-learn/issues/21755 */display: inline-block !important;position: relative;}#sk-ab236685-2741-483e-b60a-89757d3f506d div.sk-text-repr-fallback {display: none;}</style><div id=\"sk-ab236685-2741-483e-b60a-89757d3f506d\" class=\"sk-top-container\"><div class=\"sk-text-repr-fallback\"><pre>GridSearchCV(estimator=Pipeline(steps=[(&#x27;classifier&#x27;,\n",
              "                                        RandomForestClassifier())]),\n",
              "             n_jobs=-1,\n",
              "             param_grid=[{&#x27;classifier&#x27;: [LogisticRegression()],\n",
              "                          &#x27;classifier__C&#x27;: array([1.00000000e+00, 2.78255940e+00, 7.74263683e+00, 2.15443469e+01,\n",
              "       5.99484250e+01, 1.66810054e+02, 4.64158883e+02, 1.29154967e+03,\n",
              "       3.59381366e+03, 1.00000000e+04]),\n",
              "                          &#x27;classifier__penalty&#x27;: [&#x27;l2&#x27;, &#x27;l1&#x27;]},\n",
              "                         {&#x27;classifier&#x27;: [LogisticRegression(solver=&#x27;saga&#x27;)],\n",
              "                          &#x27;classifier__C&#x27;: array([1.00000000e+00, 2.78255940e+00, 7.74263683e+00, 2.15443469e+01,\n",
              "       5.99484250e+01, 1.66810054e+02, 4.64158883e+02, 1.29154967e+03,\n",
              "       3.59381366e+03, 1.00000000e+04]),\n",
              "                          &#x27;classifier__penalty&#x27;: [&#x27;l2&#x27;],\n",
              "                          &#x27;classifier__solver&#x27;: [&#x27;newton-cg&#x27;, &#x27;saga&#x27;, &#x27;sag&#x27;,\n",
              "                                                 &#x27;liblinear&#x27;]},\n",
              "                         {&#x27;classifier&#x27;: [RandomForestClassifier()]}])</pre><b>Please rerun this cell to show the HTML repr or trust the notebook.</b></div><div class=\"sk-container\" hidden><div class=\"sk-item sk-dashed-wrapped\"><div class=\"sk-label-container\"><div class=\"sk-label sk-toggleable\"><input class=\"sk-toggleable__control sk-hidden--visually\" id=\"1f725334-0b41-4607-be6f-a004561d02fa\" type=\"checkbox\" ><label for=\"1f725334-0b41-4607-be6f-a004561d02fa\" class=\"sk-toggleable__label sk-toggleable__label-arrow\">GridSearchCV</label><div class=\"sk-toggleable__content\"><pre>GridSearchCV(estimator=Pipeline(steps=[(&#x27;classifier&#x27;,\n",
              "                                        RandomForestClassifier())]),\n",
              "             n_jobs=-1,\n",
              "             param_grid=[{&#x27;classifier&#x27;: [LogisticRegression()],\n",
              "                          &#x27;classifier__C&#x27;: array([1.00000000e+00, 2.78255940e+00, 7.74263683e+00, 2.15443469e+01,\n",
              "       5.99484250e+01, 1.66810054e+02, 4.64158883e+02, 1.29154967e+03,\n",
              "       3.59381366e+03, 1.00000000e+04]),\n",
              "                          &#x27;classifier__penalty&#x27;: [&#x27;l2&#x27;, &#x27;l1&#x27;]},\n",
              "                         {&#x27;classifier&#x27;: [LogisticRegression(solver=&#x27;saga&#x27;)],\n",
              "                          &#x27;classifier__C&#x27;: array([1.00000000e+00, 2.78255940e+00, 7.74263683e+00, 2.15443469e+01,\n",
              "       5.99484250e+01, 1.66810054e+02, 4.64158883e+02, 1.29154967e+03,\n",
              "       3.59381366e+03, 1.00000000e+04]),\n",
              "                          &#x27;classifier__penalty&#x27;: [&#x27;l2&#x27;],\n",
              "                          &#x27;classifier__solver&#x27;: [&#x27;newton-cg&#x27;, &#x27;saga&#x27;, &#x27;sag&#x27;,\n",
              "                                                 &#x27;liblinear&#x27;]},\n",
              "                         {&#x27;classifier&#x27;: [RandomForestClassifier()]}])</pre></div></div></div><div class=\"sk-parallel\"><div class=\"sk-parallel-item\"><div class=\"sk-item\"><div class=\"sk-serial\"><div class=\"sk-item\"><div class=\"sk-serial\"><div class=\"sk-item\"><div class=\"sk-estimator sk-toggleable\"><input class=\"sk-toggleable__control sk-hidden--visually\" id=\"aacee679-6456-4ef1-8430-4dcb4db82882\" type=\"checkbox\" ><label for=\"aacee679-6456-4ef1-8430-4dcb4db82882\" class=\"sk-toggleable__label sk-toggleable__label-arrow\">RandomForestClassifier</label><div class=\"sk-toggleable__content\"><pre>RandomForestClassifier()</pre></div></div></div></div></div></div></div></div></div></div></div></div>"
            ]
          },
          "metadata": {},
          "execution_count": 28
        }
      ]
    }
  ],
  "metadata": {
    "kernelspec": {
      "display_name": "Python 3",
      "language": "python",
      "name": "python3"
    },
    "language_info": {
      "codemirror_mode": {
        "name": "ipython",
        "version": 3
      },
      "file_extension": ".py",
      "mimetype": "text/x-python",
      "name": "python",
      "nbconvert_exporter": "python",
      "pygments_lexer": "ipython3",
      "version": "3.6.7"
    },
    "colab": {
      "name": "Sklearn Pipeline.ipynb",
      "provenance": [],
      "include_colab_link": true
    }
  },
  "nbformat": 4,
  "nbformat_minor": 0
}